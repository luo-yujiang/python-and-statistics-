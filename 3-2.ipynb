{
 "cells": [
  {
   "cell_type": "code",
   "execution_count": 11,
   "metadata": {
    "ExecuteTime": {
     "end_time": "2021-11-17T15:35:34.039939Z",
     "start_time": "2021-11-17T15:35:34.013964Z"
    }
   },
   "outputs": [
    {
     "name": "stdout",
     "output_type": "stream",
     "text": [
      "[['否', '否', '否', '是', '是', '否', '否', '是', '否', '是', '否', '否', '是', '是', '否', '是', '否', '否', '是', '是']]\n",
      "    否\n",
      "0   否\n",
      "1   否\n",
      "2   是\n",
      "3   是\n",
      "4   否\n",
      "5   否\n",
      "6   是\n",
      "7   否\n",
      "8   是\n",
      "9   否\n",
      "10  否\n",
      "11  是\n",
      "12  是\n",
      "13  否\n",
      "14  是\n",
      "15  否\n",
      "16  否\n",
      "17  是\n",
      "18  是\n"
     ]
    }
   ],
   "source": [
    "# （1）请用列表录入该数据。\n",
    "a = []\n",
    "f = open(\"3-2.txt\", \"r\",encoding='utf-8')\n",
    "for line in f.readlines():\n",
    "    line=line.strip('\\n')\n",
    "    line=line.split('，')\n",
    "    a.append(line) \n",
    "print(a)\n",
    "# （2）请将这组数据输入电子表格，并将其读入Python。\n",
    "import pandas as pd\n",
    "b=pd.read_excel('3-2.xls')\n",
    "print(b)"
   ]
  }
 ],
 "metadata": {
  "kernelspec": {
   "display_name": "Python 3",
   "language": "python",
   "name": "python3"
  },
  "language_info": {
   "codemirror_mode": {
    "name": "ipython",
    "version": 3
   },
   "file_extension": ".py",
   "mimetype": "text/x-python",
   "name": "python",
   "nbconvert_exporter": "python",
   "pygments_lexer": "ipython3",
   "version": "3.8.5"
  },
  "varInspector": {
   "cols": {
    "lenName": 16,
    "lenType": 16,
    "lenVar": 40
   },
   "kernels_config": {
    "python": {
     "delete_cmd_postfix": "",
     "delete_cmd_prefix": "del ",
     "library": "var_list.py",
     "varRefreshCmd": "print(var_dic_list())"
    },
    "r": {
     "delete_cmd_postfix": ") ",
     "delete_cmd_prefix": "rm(",
     "library": "var_list.r",
     "varRefreshCmd": "cat(var_dic_list()) "
    }
   },
   "types_to_exclude": [
    "module",
    "function",
    "builtin_function_or_method",
    "instance",
    "_Feature"
   ],
   "window_display": false
  }
 },
 "nbformat": 4,
 "nbformat_minor": 4
}
