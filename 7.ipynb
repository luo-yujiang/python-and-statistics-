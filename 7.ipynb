{
 "cells": [
  {
   "cell_type": "code",
   "execution_count": 6,
   "metadata": {
    "ExecuteTime": {
     "end_time": "2021-11-24T08:34:08.338011Z",
     "start_time": "2021-11-24T08:34:08.326015Z"
    }
   },
   "outputs": [
    {
     "name": "stdout",
     "output_type": "stream",
     "text": [
      "0.06279596590015428\n",
      "13.411000000000001\n"
     ]
    }
   ],
   "source": [
    "import numpy as np\n",
    "list_1 = [13.35,13.38, 13.40,13.43, 13.32, 13.48, 13.34, 13.47, 13.44, 13.50]\n",
    "print(np.std(list_1, ddof=1))\n",
    "print(np.mean(list_1))"
   ]
  },
  {
   "cell_type": "code",
   "execution_count": 11,
   "metadata": {
    "ExecuteTime": {
     "end_time": "2021-11-24T09:04:34.413979Z",
     "start_time": "2021-11-24T09:04:34.407976Z"
    }
   },
   "outputs": [
    {
     "name": "stdout",
     "output_type": "stream",
     "text": [
      "1.942877434958965\n",
      "5.9750000000000005\n",
      "4.417125312719138\n",
      "7.532874687280863\n"
     ]
    }
   ],
   "source": [
    "a=[7.2,3.5,4.3,6.2,10.1,5.4,6.8,4.5,5.1,6.6,3.8,8.2]\n",
    "print(np.std(a, ddof=1))\n",
    "print(np.mean(a))\n",
    "a_len=len(a)\n",
    "a_std=np.std(a, ddof=1)\n",
    "a_mean = np.mean(a)\n",
    "print(a_mean-1.96*a_std/a_mean**0.5)\n",
    "print(a_mean+1.96*a_std/a_mean**0.5)"
   ]
  },
  {
   "cell_type": "code",
   "execution_count": 13,
   "metadata": {
    "ExecuteTime": {
     "end_time": "2021-11-24T09:22:18.775777Z",
     "start_time": "2021-11-24T09:22:18.761775Z"
    }
   },
   "outputs": [
    {
     "name": "stdout",
     "output_type": "stream",
     "text": [
      "505.25\n"
     ]
    }
   ],
   "source": [
    "b=[502,496,510,508,506,498,512,497,515,503,510,506]\n",
    "b_mean=np.mean(b)\n",
    "print(b_mean)"
   ]
  },
  {
   "cell_type": "code",
   "execution_count": 17,
   "metadata": {
    "ExecuteTime": {
     "end_time": "2021-11-24T09:43:38.463987Z",
     "start_time": "2021-11-24T09:43:38.297714Z"
    }
   },
   "outputs": [
    {
     "data": {
      "image/png": "[encoded data removed]",
      "text/plain": [
       "<Figure size 432x288 with 1 Axes>"
      ]
     },
     "metadata": {
      "needs_background": "light"
     },
     "output_type": "display_data"
    },
    {
     "name": "stdout",
     "output_type": "stream",
     "text": [
      "[[1.         0.97368716]\n",
      " [0.97368716 1.        ]]\n"
     ]
    }
   ],
   "source": [
    "# （1）做x与y的散点图，并以此判断x与y之间是否大致呈线性关系。\n",
    "import matplotlib.pyplot as plt\n",
    "cx= [0.10, 0.11, 0.12, 0.13, 0.14, 0.15, 0.16, 0.17, 0.18, 0.20, 0.21, 0.23]\n",
    "cy = [42, 43.5, 45, 45.5, 45, 47.5, 49, 53, 50, 55, 55, 60]\n",
    "plt.figure()\n",
    "plt.scatter(cx,cy)\n",
    "plt.show()\n",
    "# （2）计算x与y的相关系数并做假设检验。\n",
    "my_rho = np.corrcoef(cx, cy)\n",
    "print(my_rho)"
   ]
  }
 ],
 "metadata": {
  "kernelspec": {
   "display_name": "Python 3",
   "language": "python",
   "name": "python3"
  },
  "language_info": {
   "codemirror_mode": {
    "name": "ipython",
    "version": 3
   },
   "file_extension": ".py",
   "mimetype": "text/x-python",
   "name": "python",
   "nbconvert_exporter": "python",
   "pygments_lexer": "ipython3",
   "version": "3.8.5"
  },
  "varInspector": {
   "cols": {
    "lenName": 16,
    "lenType": 16,
    "lenVar": 40
   },
   "kernels_config": {
    "python": {
     "delete_cmd_postfix": "",
     "delete_cmd_prefix": "del ",
     "library": "var_list.py",
     "varRefreshCmd": "print(var_dic_list())"
    },
    "r": {
     "delete_cmd_postfix": ") ",
     "delete_cmd_prefix": "rm(",
     "library": "var_list.r",
     "varRefreshCmd": "cat(var_dic_list()) "
    }
   },
   "position": {
    "height": "418.85px",
    "left": "1144px",
    "right": "20px",
    "top": "69px",
    "width": "358px"
   },
   "types_to_exclude": [
    "module",
    "function",
    "builtin_function_or_method",
    "instance",
    "_Feature"
   ],
   "window_display": true
  }
 },
 "nbformat": 4,
 "nbformat_minor": 4
}
