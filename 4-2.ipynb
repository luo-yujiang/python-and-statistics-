{
 "cells": [
  {
   "cell_type": "code",
   "execution_count": 33,
   "metadata": {
    "ExecuteTime": {
     "end_time": "2021-11-20T07:56:50.842245Z",
     "start_time": "2021-11-20T07:56:50.219689Z"
    }
   },
   "outputs": [
    {
     "name": "stdout",
     "output_type": "stream",
     "text": [
      "数据    2930.0\n",
      "dtype: float64\n",
      "数据    2875.0\n",
      "dtype: float64\n",
      "数据    406421.052632\n",
      "dtype: float64\n",
      "数据    637.51161\n",
      "dtype: float64\n"
     ]
    },
    {
     "data": {
      "image/png": "[encoded data removed]",
      "text/plain": [
       "<Figure size 432x288 with 1 Axes>"
      ]
     },
     "metadata": {
      "needs_background": "light"
     },
     "output_type": "display_data"
    },
    {
     "data": {
      "image/png": "[encoded data removed]",
      "text/plain": [
       "<Figure size 432x288 with 1 Axes>"
      ]
     },
     "metadata": {
      "needs_background": "light"
     },
     "output_type": "display_data"
    },
    {
     "data": {
      "image/png": "[encoded data removed]",
      "text/plain": [
       "<Figure size 432x288 with 1 Axes>"
      ]
     },
     "metadata": {
      "needs_background": "light"
     },
     "output_type": "display_data"
    },
    {
     "name": "stdout",
     "output_type": "stream",
     "text": [
      "[6. 5. 4. 2. 3.] [2050. 2480. 2910. 3340. 3770. 4200.] <BarContainer object of 5 artists>\n"
     ]
    },
    {
     "data": {
      "image/png": "[encoded data removed]",
      "text/plain": [
       "<Figure size 432x288 with 1 Axes>"
      ]
     },
     "metadata": {
      "needs_background": "light"
     },
     "output_type": "display_data"
    },
    {
     "name": "stdout",
     "output_type": "stream",
     "text": [
      "                分组区间   组中值  频数    频率\n",
      "0  (2047.85, 2480.0]  2265   6  0.30\n",
      "1   (2480.0, 2910.0]  2695   5  0.25\n",
      "2   (2910.0, 3340.0]  3125   4  0.20\n",
      "3   (3770.0, 4200.0]  3555   3  0.15\n",
      "4   (3340.0, 3770.0]  3985   2  0.10\n"
     ]
    }
   ],
   "source": [
    "# （1）试用mean、median、var、sd函数求数据的均值、中位数、方差、标准差。\n",
    "import pandas as pd\n",
    "df=pd.read_excel('4-2.xls')\n",
    "print(df.mean())\n",
    "print(df.median())\n",
    "print(df.var())\n",
    "print(df.std())\n",
    "# （2）绘制该数据的散点图和直方图，应用hist函数构建自己的计量频数表函数\n",
    "import numpy as np\n",
    "import matplotlib.pyplot as plt\n",
    "plt.rcParams['font.sans-serif']=['SimHei']\n",
    "shape_0=df.shape[0]\n",
    "x = np.linspace(0,shape_0-1,shape_0)\n",
    "y = df.iloc[:,0]\n",
    "# 折线图\n",
    "plt.figure()\n",
    "plt.xlabel('月数')\n",
    "plt.ylabel('工资')\n",
    "plt.scatter(x,y)\n",
    "plt.show()\n",
    "# 直方图\n",
    "plt.figure()\n",
    "plt.xlabel('月数')\n",
    "plt.ylabel('工资')\n",
    "plt.bar(x,y)\n",
    "plt.show()\n",
    "# hist\n",
    "plt.figure()\n",
    "nbins=5  #分组数\n",
    "nt,bins,patches=plt.hist(y,nbins)\n",
    "plt.xlabel('工资（分组）')\n",
    "plt.ylabel('频数')\n",
    "plt.show()\n",
    "print(nt,bins,patches)\n",
    "# （3）请用自定义函数freq生成频数表和频数图。\n",
    "def freq(data_input,len_data):\n",
    "    \n",
    "    plt.rcParams['font.sans-serif']=['SimHei']\n",
    "    plt.figure()\n",
    "    nbins=5  #分组数\n",
    "    nt,bins,patches=plt.hist(y,nbins)\n",
    "    plt.xlabel('工资（分组）')\n",
    "    plt.ylabel('频数')\n",
    "    plt.show()\n",
    "    \n",
    "    t22=pd.cut(data_input,5)\n",
    "    t22=t22.value_counts()\n",
    "    t22=pd.DataFrame(t22)\n",
    "    t22['分组区间'] = t22.index\n",
    "    t22.columns = ['频数','分组区间']\n",
    "    t22.reset_index(drop=True, inplace=True)  \n",
    "    t22['组中值'] =[2265,2695,3125,3555,3985]\n",
    "    t22['频率']=t22['频数']/len_data\n",
    "    t22=t22[['分组区间','组中值','频数','频率']]\n",
    "    print(t22)\n",
    "\n",
    "freq(y,shape_0)"
   ]
  }
 ],
 "metadata": {
  "kernelspec": {
   "display_name": "Python 3",
   "language": "python",
   "name": "python3"
  },
  "language_info": {
   "codemirror_mode": {
    "name": "ipython",
    "version": 3
   },
   "file_extension": ".py",
   "mimetype": "text/x-python",
   "name": "python",
   "nbconvert_exporter": "python",
   "pygments_lexer": "ipython3",
   "version": "3.8.5"
  },
  "varInspector": {
   "cols": {
    "lenName": 16,
    "lenType": 16,
    "lenVar": 40
   },
   "kernels_config": {
    "python": {
     "delete_cmd_postfix": "",
     "delete_cmd_prefix": "del ",
     "library": "var_list.py",
     "varRefreshCmd": "print(var_dic_list())"
    },
    "r": {
     "delete_cmd_postfix": ") ",
     "delete_cmd_prefix": "rm(",
     "library": "var_list.r",
     "varRefreshCmd": "cat(var_dic_list()) "
    }
   },
   "types_to_exclude": [
    "module",
    "function",
    "builtin_function_or_method",
    "instance",
    "_Feature"
   ],
   "window_display": false
  }
 },
 "nbformat": 4,
 "nbformat_minor": 4
}
