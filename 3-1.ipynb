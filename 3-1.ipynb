{
 "cells": [
  {
   "cell_type": "code",
   "execution_count": 29,
   "metadata": {
    "ExecuteTime": {
     "end_time": "2021-11-17T15:17:25.984110Z",
     "start_time": "2021-11-17T15:17:25.966557Z"
    }
   },
   "outputs": [
    {
     "name": "stdout",
     "output_type": "stream",
     "text": [
      "[[1 2]\n",
      " [4 4]]\n",
      "5\n",
      "6\n",
      "[0 1 2 3 4 5 6 7 8]\n",
      "[[0 1 2]\n",
      " [3 4 5]\n",
      " [6 7 8]]\n",
      "[[ 0  1  2]\n",
      " [ 3  4  5]\n",
      " [ 6  7  8]\n",
      " [10 11 12]\n",
      " [13 14 15]\n",
      " [16 17 18]]\n",
      "[[ 0  1  2 10 11 12]\n",
      " [ 3  4  5 13 14 15]\n",
      " [ 6  7  8 16 17 18]]\n",
      "[[0 1 2]] [[3 4 5]] [[6 7 8]]\n"
     ]
    }
   ],
   "source": [
    "import numpy as np\n",
    "#（1）创建一个2*2的数组，计算对角线上元素的和。\n",
    "a = np.array([[1,2],[4,4]])\n",
    "print(a)\n",
    "print(np.trace(a))\n",
    "a_reverse = np.fliplr(a)\n",
    "print(np.trace(a_reverse))\n",
    "#（2）创建一个长度为9的一维数据，数组元素0～8，并将它重新变为3*3的二维数。 \n",
    "b = np.arange(0,9)\n",
    "print(b)\n",
    "b1=b.reshape(3,3)\n",
    "print(b1)\n",
    "# （3）创建两个3*3的数组，分别将它们合并为3*6、6*3的数组后，拆分为3个数组。\n",
    "c1 = np.arange(0,9).reshape(3,3)\n",
    "c2 = np.arange(10,19).reshape(3,3)\n",
    "\n",
    "d=np.append(c1,c2,axis=0)\n",
    "e=np.append(c1,c2,axis=1)\n",
    "\n",
    "print(d)\n",
    "print(e)\n",
    "\n",
    "c3,c4,c5 = np.split(c1,[1,2])\n",
    "print(c3,c4,c5)"
   ]
  }
 ],
 "metadata": {
  "kernelspec": {
   "display_name": "Python 3",
   "language": "python",
   "name": "python3"
  },
  "language_info": {
   "codemirror_mode": {
    "name": "ipython",
    "version": 3
   },
   "file_extension": ".py",
   "mimetype": "text/x-python",
   "name": "python",
   "nbconvert_exporter": "python",
   "pygments_lexer": "ipython3",
   "version": "3.8.5"
  },
  "varInspector": {
   "cols": {
    "lenName": 16,
    "lenType": 16,
    "lenVar": 40
   },
   "kernels_config": {
    "python": {
     "delete_cmd_postfix": "",
     "delete_cmd_prefix": "del ",
     "library": "var_list.py",
     "varRefreshCmd": "print(var_dic_list())"
    },
    "r": {
     "delete_cmd_postfix": ") ",
     "delete_cmd_prefix": "rm(",
     "library": "var_list.r",
     "varRefreshCmd": "cat(var_dic_list()) "
    }
   },
   "types_to_exclude": [
    "module",
    "function",
    "builtin_function_or_method",
    "instance",
    "_Feature"
   ],
   "window_display": false
  }
 },
 "nbformat": 4,
 "nbformat_minor": 4
}
