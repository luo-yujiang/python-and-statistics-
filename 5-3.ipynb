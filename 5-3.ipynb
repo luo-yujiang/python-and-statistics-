{
 "cells": [
  {
   "cell_type": "code",
   "execution_count": 2,
   "metadata": {
    "ExecuteTime": {
     "end_time": "2021-11-21T07:31:13.111588Z",
     "start_time": "2021-11-21T07:31:08.603731Z"
    },
    "collapsed": true
   },
   "outputs": [
    {
     "name": "stdout",
     "output_type": "stream",
     "text": [
      "initiated datasets repo at: C:\\Users\\luo\\.pydataset/\n",
      "economics\n",
      "\n",
      "PyDataset Documentation (adopted from R Documentation. The displayed examples are in R)\n",
      "\n",
      "## US economic time series.\n",
      "\n",
      "### Description\n",
      "\n",
      "This dataset was produced from US economic time series data available from\n",
      "http://research.stlouisfed.org/fred2.\n",
      "\n",
      "### Usage\n",
      "\n",
      "    data(economics)\n",
      "\n",
      "### Format\n",
      "\n",
      "A data frame with 478 rows and 6 variables\n",
      "\n",
      "### Details\n",
      "\n",
      "  * date. Month of data collection \n",
      "\n",
      "  * psavert, personal savings rate, http://research.stlouisfed.org/fred2/series/PSAVERT/\n",
      "\n",
      "  * pce, personal consumption expenditures, in billions of dollars, http://research.stlouisfed.org/fred2/series/PCE\n",
      "\n",
      "  * unemploy, number of unemployed in thousands, http://research.stlouisfed.org/fred2/series/UNEMPLOY\n",
      "\n",
      "  * uempmed, median duration of unemployment, in week, http://research.stlouisfed.org/fred2/series/UEMPMED\n",
      "\n",
      "  * pop, total population, in thousands, http://research.stlouisfed.org/fred2/series/POP\n",
      "\n",
      "\n"
     ]
    }
   ],
   "source": [
    "#!pip install pydataset              #安装python数据包\n",
    "from pydataset import data         #加载数据包\n",
    "data()                           #查看可用数据表  \n",
    "economics = data('economics')      #调用数据表\n",
    "data('economics',show_doc=True)   #显示数据表的属性"
   ]
  }
 ],
 "metadata": {
  "kernelspec": {
   "display_name": "Python 3",
   "language": "python",
   "name": "python3"
  },
  "language_info": {
   "codemirror_mode": {
    "name": "ipython",
    "version": 3
   },
   "file_extension": ".py",
   "mimetype": "text/x-python",
   "name": "python",
   "nbconvert_exporter": "python",
   "pygments_lexer": "ipython3",
   "version": "3.8.5"
  },
  "varInspector": {
   "cols": {
    "lenName": 16,
    "lenType": 16,
    "lenVar": 40
   },
   "kernels_config": {
    "python": {
     "delete_cmd_postfix": "",
     "delete_cmd_prefix": "del ",
     "library": "var_list.py",
     "varRefreshCmd": "print(var_dic_list())"
    },
    "r": {
     "delete_cmd_postfix": ") ",
     "delete_cmd_prefix": "rm(",
     "library": "var_list.r",
     "varRefreshCmd": "cat(var_dic_list()) "
    }
   },
   "types_to_exclude": [
    "module",
    "function",
    "builtin_function_or_method",
    "instance",
    "_Feature"
   ],
   "window_display": false
  }
 },
 "nbformat": 4,
 "nbformat_minor": 4
}
