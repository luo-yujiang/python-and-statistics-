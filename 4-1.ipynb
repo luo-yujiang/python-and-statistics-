{
 "cells": [
  {
   "cell_type": "code",
   "execution_count": 3,
   "metadata": {
    "ExecuteTime": {
     "end_time": "2021-11-21T07:03:47.931501Z",
     "start_time": "2021-11-21T07:03:47.707957Z"
    }
   },
   "outputs": [
    {
     "name": "stdout",
     "output_type": "stream",
     "text": [
      "是否吸烟\n",
      "否       11\n",
      "是        9\n",
      "dtype: int64\n",
      "  是否吸烟  num\n",
      "0    否   11\n",
      "1    是    9\n"
     ]
    },
    {
     "data": {
      "image/png": "[encoded data removed]",
      "text/plain": [
       "<Figure size 360x360 with 1 Axes>"
      ]
     },
     "metadata": {
      "needs_background": "light"
     },
     "output_type": "display_data"
    },
    {
     "data": {
      "image/png": "[encoded data removed]",
      "text/plain": [
       "<Figure size 360x360 with 1 Axes>"
      ]
     },
     "metadata": {
      "needs_background": "light"
     },
     "output_type": "display_data"
    },
    {
     "name": "stdout",
     "output_type": "stream",
     "text": [
      "  是否吸烟  num\n",
      "0    否   11\n",
      "1    是    9\n"
     ]
    }
   ],
   "source": [
    "# （1）请用value_count函数统计人数，并绘制条图，按颜色区分是否。\n",
    "import pandas as pd\n",
    "df=pd.read_excel('4-1.xls')\n",
    "a=df.iloc[:,:].value_counts()\n",
    "print(a)\n",
    "a=a.to_frame().reset_index()\n",
    "columns_name = ['是否吸烟','num']\n",
    "a.columns=columns_name\n",
    "print(a)\n",
    "\n",
    "import matplotlib.pyplot as plt\n",
    "plt.rcParams['font.sans-serif']=['SimHei']\n",
    "fig=plt.figure()\n",
    "fig.set_figheight(5)\n",
    "fig.set_figwidth(5)\n",
    "x=a.iloc[:,0]\n",
    "y=a.iloc[:,1]\n",
    "plt.title('吸烟情况')\n",
    "plt.xlabel('是否吸烟')\n",
    "plt.ylabel('吸烟人数')\n",
    "plt.bar(x,y,width=0.5,color=['r','g'])\n",
    "plt.show()\n",
    "\n",
    "# （2）请用自定义函数tab生成频数表和频数图\n",
    "def tab():\n",
    "    import matplotlib.pyplot as plt\n",
    "    plt.rcParams['font.sans-serif']=['SimHei']\n",
    "    fig=plt.figure()\n",
    "    fig.set_figheight(5)\n",
    "    fig.set_figwidth(5)\n",
    "    x=a.iloc[:,0]\n",
    "    y=a.iloc[:,1]\n",
    "    plt.title('吸烟情况')\n",
    "    plt.xlabel('是否吸烟')\n",
    "    plt.ylabel('吸烟人数')\n",
    "    plt.bar(x,y,width=0.5,color=['r','g'])\n",
    "    plt.show()\n",
    "    \n",
    "    print(a)\n",
    "    \n",
    "tab()"
   ]
  }
 ],
 "metadata": {
  "kernelspec": {
   "display_name": "Python 3",
   "language": "python",
   "name": "python3"
  },
  "language_info": {
   "codemirror_mode": {
    "name": "ipython",
    "version": 3
   },
   "file_extension": ".py",
   "mimetype": "text/x-python",
   "name": "python",
   "nbconvert_exporter": "python",
   "pygments_lexer": "ipython3",
   "version": "3.8.5"
  },
  "varInspector": {
   "cols": {
    "lenName": 16,
    "lenType": 16,
    "lenVar": 40
   },
   "kernels_config": {
    "python": {
     "delete_cmd_postfix": "",
     "delete_cmd_prefix": "del ",
     "library": "var_list.py",
     "varRefreshCmd": "print(var_dic_list())"
    },
    "r": {
     "delete_cmd_postfix": ") ",
     "delete_cmd_prefix": "rm(",
     "library": "var_list.r",
     "varRefreshCmd": "cat(var_dic_list()) "
    }
   },
   "types_to_exclude": [
    "module",
    "function",
    "builtin_function_or_method",
    "instance",
    "_Feature"
   ],
   "window_display": false
  }
 },
 "nbformat": 4,
 "nbformat_minor": 4
}
