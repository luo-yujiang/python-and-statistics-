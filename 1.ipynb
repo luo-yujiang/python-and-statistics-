{
 "cells": [
  {
   "cell_type": "code",
   "execution_count": 21,
   "metadata": {
    "ExecuteTime": {
     "end_time": "2021-11-17T13:34:50.212074Z",
     "start_time": "2021-11-17T13:34:50.187164Z"
    }
   },
   "outputs": [
    {
     "name": "stdout",
     "output_type": "stream",
     "text": [
      "[['name', 'physics', 'Python', 'math', 'english'], ['Google', '100', '100', '25', '12'], ['Facebook', '45', '54', '44', '88'], ['Twitter', '54', '76', '13', '91'], ['Yahoo', '54', '452', '26', '100']]\n",
      "{'name': ['physics', 'Python', 'math', 'english'], 'Google': ['100', '100', '25', '12'], 'Facebook': ['45', '54', '44', '88'], 'Twitter': ['54', '76', '13', '91'], 'Yahoo': ['54', '452', '26', '100']}\n"
     ]
    }
   ],
   "source": [
    "#写入列表\n",
    "a = []\n",
    "#写入字典\n",
    "d=dict()\n",
    "\n",
    "f = open(\"1.txt\", \"r\",encoding='utf-8')\n",
    "for line in f.readlines():\n",
    "    line=line.strip('\\n')\n",
    "    line=line.split(',')\n",
    "    d[line[0]] = (line[1:5]) \n",
    "    a.append(line) \n",
    "\n",
    "print(a)\n",
    "print(d) "
   ]
  }
 ],
 "metadata": {
  "kernelspec": {
   "display_name": "Python 3",
   "language": "python",
   "name": "python3"
  },
  "language_info": {
   "codemirror_mode": {
    "name": "ipython",
    "version": 3
   },
   "file_extension": ".py",
   "mimetype": "text/x-python",
   "name": "python",
   "nbconvert_exporter": "python",
   "pygments_lexer": "ipython3",
   "version": "3.8.5"
  },
  "varInspector": {
   "cols": {
    "lenName": 16,
    "lenType": 16,
    "lenVar": 40
   },
   "kernels_config": {
    "python": {
     "delete_cmd_postfix": "",
     "delete_cmd_prefix": "del ",
     "library": "var_list.py",
     "varRefreshCmd": "print(var_dic_list())"
    },
    "r": {
     "delete_cmd_postfix": ") ",
     "delete_cmd_prefix": "rm(",
     "library": "var_list.r",
     "varRefreshCmd": "cat(var_dic_list()) "
    }
   },
   "types_to_exclude": [
    "module",
    "function",
    "builtin_function_or_method",
    "instance",
    "_Feature"
   ],
   "window_display": false
  }
 },
 "nbformat": 4,
 "nbformat_minor": 4
}
